{
 "metadata": {
  "language_info": {
   "codemirror_mode": {
    "name": "ipython",
    "version": 3
   },
   "file_extension": ".py",
   "mimetype": "text/x-python",
   "name": "python",
   "nbconvert_exporter": "python",
   "pygments_lexer": "ipython3",
   "version": "3.8.10"
  },
  "orig_nbformat": 4,
  "kernelspec": {
   "name": "python3",
   "display_name": "Python 3.8.10 64-bit ('al_env': conda)"
  },
  "interpreter": {
   "hash": "078a09b95923dec6cd00a3a9c26f64a791b7ab8f8ad716a28cc4cb010e32e618"
  }
 },
 "nbformat": 4,
 "nbformat_minor": 2,
 "cells": [
  {
   "source": [
    "### [source](https://github.com/google/sentencepiece/blob/master/python/sentencepiece_python_module_example.ipynb)"
   ],
   "cell_type": "markdown",
   "metadata": {}
  },
  {
   "cell_type": "code",
   "execution_count": 1,
   "metadata": {},
   "outputs": [],
   "source": [
    "import sentencepiece as spm"
   ]
  },
  {
   "cell_type": "code",
   "execution_count": 18,
   "metadata": {},
   "outputs": [],
   "source": [
    "# --input=<input> --model_prefix=<model_name> --vocab_size=25000\n",
    "# --character_coverage=<double> --model_type=<type>\n",
    "# use --help or see the page https://github.com/google/sentencepiece/blob/master/doc/options.md\n",
    "spm.SentencePieceTrainer.train(\n",
    "    f\"--input=data/wmt14/commoncrawl/commoncrawl.fr-en.fr,\\\n",
    "data/wmt14/europarl_v7/europarl-v7.fr-en.fr,\\\n",
    "data/wmt14/giga/giga-fren.release2.fixed.fr,\\\n",
    "data/wmt14/news-commentary/news-commentary-v9.fr-en.fr,\\\n",
    "data/wmt14/un/undoc.2000.fr-en.fr\\\n",
    "    --model_prefix=data/tokenizer/spm/fr/bpe\\\n",
    "    --user_defined_symbols=<s>,</s>\\\n",
    "    --vocab_size=25000\\\n",
    "    --model_type=bpe\"\n",
    ")"
   ]
  },
  {
   "cell_type": "code",
   "execution_count": 20,
   "metadata": {},
   "outputs": [
    {
     "output_type": "stream",
     "name": "stdout",
     "text": [
      "['▁', '<s>', '▁Bon', 'jour', ',', '▁vous', '▁tous', '!', '▁Comment', '▁ça', '▁va', '▁', '😁', '?', '</s>']\n"
     ]
    }
   ],
   "source": [
    "sp = spm.SentencePieceProcessor()\n",
    "sp.load('data/tokenizer/spm/fr/bpe.model')\n",
    "print(sp.encode_as_pieces('<s> Bonjour, vous tous! Comment ça va 😁?</s>'))"
   ]
  },
  {
   "cell_type": "code",
   "execution_count": 21,
   "metadata": {},
   "outputs": [
    {
     "output_type": "stream",
     "name": "stdout",
     "text": [
      "<s> Bonjour, vous tous! Comment ça va 😁?</s>\n"
     ]
    }
   ],
   "source": [
    "print(sp.decode_pieces(['▁', '<s>', '▁Bon', 'jour', ',', '▁vous', '▁tous', '!', '▁Comment', '▁ça', '▁va', '▁', '😁', '?', '</s>']))"
   ]
  }
 ]
}