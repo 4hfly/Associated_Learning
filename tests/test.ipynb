{
 "cells": [
  {
   "cell_type": "code",
   "execution_count": 1,
   "source": [
    "import torch"
   ],
   "outputs": [],
   "metadata": {}
  },
  {
   "cell_type": "code",
   "execution_count": 19,
   "source": [
    "a = torch.randn(2, 4, 4)\r\n",
    "a"
   ],
   "outputs": [
    {
     "output_type": "execute_result",
     "data": {
      "text/plain": [
       "tensor([[[-0.4366, -0.6616, -0.8655,  1.3869],\n",
       "         [-0.0788, -0.6572, -2.3165, -0.6691],\n",
       "         [-1.0360, -1.0938, -0.4994, -0.7439],\n",
       "         [-0.2051,  1.8198,  1.5264, -0.3290]],\n",
       "\n",
       "        [[-0.0797,  0.4151, -1.7254,  0.1034],\n",
       "         [-0.1304,  0.2779, -0.2762, -0.5377],\n",
       "         [ 0.8842,  0.1721, -1.3750,  0.7470],\n",
       "         [-1.6714,  0.8215, -0.2294, -0.6720]]])"
      ]
     },
     "metadata": {},
     "execution_count": 19
    }
   ],
   "metadata": {}
  },
  {
   "cell_type": "code",
   "execution_count": 20,
   "source": [
    "a.mean(dim=1)"
   ],
   "outputs": [
    {
     "output_type": "execute_result",
     "data": {
      "text/plain": [
       "tensor([[-0.4391, -0.1482, -0.5387, -0.0888],\n",
       "        [-0.2493,  0.4217, -0.9015, -0.0898]])"
      ]
     },
     "metadata": {},
     "execution_count": 20
    }
   ],
   "metadata": {}
  },
  {
   "cell_type": "code",
   "execution_count": 14,
   "source": [
    "p = (a != 0).sum(dim=1)\r\n",
    "p"
   ],
   "outputs": [
    {
     "output_type": "execute_result",
     "data": {
      "text/plain": [
       "tensor([[3, 4, 4, 3],\n",
       "        [2, 4, 4, 3]])"
      ]
     },
     "metadata": {},
     "execution_count": 14
    }
   ],
   "metadata": {}
  },
  {
   "cell_type": "code",
   "execution_count": 16,
   "source": [
    "s = a.sum(dim=1)\r\n",
    "s"
   ],
   "outputs": [
    {
     "output_type": "execute_result",
     "data": {
      "text/plain": [
       "tensor([[13, 20, 17, 14],\n",
       "        [ 7, 14, 19, 14]])"
      ]
     },
     "metadata": {},
     "execution_count": 16
    }
   ],
   "metadata": {}
  },
  {
   "cell_type": "code",
   "execution_count": 12,
   "source": [
    "c = s / p\r\n",
    "c"
   ],
   "outputs": [
    {
     "output_type": "execute_result",
     "data": {
      "text/plain": [
       "tensor([[5.0000, 3.5000, 3.0000, 4.5000],\n",
       "        [   nan, 7.5000, 2.5000, 5.0000],\n",
       "        [8.0000, 7.0000, 6.0000, 7.0000],\n",
       "        [7.0000, 2.0000, 2.0000, 3.5000]])"
      ]
     },
     "metadata": {},
     "execution_count": 12
    }
   ],
   "metadata": {}
  }
 ],
 "metadata": {
  "orig_nbformat": 4,
  "language_info": {
   "name": "python",
   "version": "3.8.10",
   "mimetype": "text/x-python",
   "codemirror_mode": {
    "name": "ipython",
    "version": 3
   },
   "pygments_lexer": "ipython3",
   "nbconvert_exporter": "python",
   "file_extension": ".py"
  },
  "kernelspec": {
   "name": "python3",
   "display_name": "Python 3.8.10 64-bit ('al_env': conda)"
  },
  "interpreter": {
   "hash": "078a09b95923dec6cd00a3a9c26f64a791b7ab8f8ad716a28cc4cb010e32e618"
  }
 },
 "nbformat": 4,
 "nbformat_minor": 2
}